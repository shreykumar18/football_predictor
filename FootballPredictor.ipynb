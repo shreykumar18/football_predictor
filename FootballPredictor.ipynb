{
  "nbformat": 4,
  "nbformat_minor": 0,
  "metadata": {
    "colab": {
      "provenance": []
    },
    "kernelspec": {
      "name": "python3",
      "display_name": "Python 3"
    },
    "language_info": {
      "name": "python"
    }
  },
  "cells": [
    {
      "cell_type": "code",
      "execution_count": null,
      "metadata": {
        "id": "WlJPJQMr1Xe6"
      },
      "outputs": [],
      "source": [
        "import pandas as pd\n",
        "import numpy as np\n",
        "from sklearn.preprocessing import StandardScaler, KBinsDiscretizer\n",
        "from sklearn.model_selection import train_test_split\n",
        "from sklearn.metrics import accuracy_score, classification_report, confusion_matrix\n",
        "from pgmpy.models import BayesianNetwork\n",
        "from pgmpy.estimators import MaximumLikelihoodEstimator\n",
        "from pgmpy.inference import VariableElimination\n",
        "\n",
        "games_df = pd.read_csv(\"games.csv\")\n",
        "teamstats_df = pd.read_csv(\"teamstats.csv\")\n",
        "shots_df = pd.read_csv(\"shots.csv\")\n",
        "\n",
        "shots_df[\"assisterID\"] = shots_df[\"assisterID\"].fillna(0)\n",
        "\n",
        "for col in teamstats_df.select_dtypes(include=[np.number]).columns:\n",
        "    teamstats_df[col] = teamstats_df[col].fillna(teamstats_df[col].median())\n",
        "\n",
        "teamstats_df[\"location\"] = teamstats_df[\"location\"].map({\"h\": 1, \"a\": 0})\n",
        "teamstats_df[\"result\"] = teamstats_df[\"result\"].map({\"W\": 1, \"D\": 0, \"L\": -1})\n",
        "\n",
        "teamstats_df[\"date\"] = pd.to_datetime(teamstats_df[\"date\"])\n",
        "games_df[\"date\"] = pd.to_datetime(games_df[\"date\"])\n",
        "\n",
        "teamstats_df.sort_values(by=[\"teamID\", \"date\"], inplace=True)\n",
        "for stat in [\"xGoals\", \"shots\", \"shotsOnTarget\"]:\n",
        "    teamstats_df[f\"{stat}_rolling5\"] = (\n",
        "        teamstats_df.groupby(\"teamID\")[stat].rolling(5, min_periods=1).mean().reset_index(level=0, drop=True)\n",
        "    )\n",
        "\n",
        "features_to_scale = [\"xGoals_rolling5\", \"shots_rolling5\", \"shotsOnTarget_rolling5\"]\n",
        "scaler = StandardScaler()\n",
        "teamstats_df[features_to_scale] = scaler.fit_transform(teamstats_df[features_to_scale])\n",
        "\n",
        "X = teamstats_df[[\"xGoals_rolling5\", \"shots_rolling5\", \"shotsOnTarget_rolling5\", \"location\"]]\n",
        "y = teamstats_df[\"result\"]\n",
        "\n",
        "X_discrete = X.copy()\n",
        "discretizer = KBinsDiscretizer(n_bins=3, encode=\"ordinal\", strategy=\"uniform\")\n",
        "X_discrete[[\"xGoals_rolling5\", \"shots_rolling5\", \"shotsOnTarget_rolling5\"]] = discretizer.fit_transform(\n",
        "    X_discrete[[\"xGoals_rolling5\", \"shots_rolling5\", \"shotsOnTarget_rolling5\"]]\n",
        ")\n",
        "\n",
        "X_train, X_test, y_train, y_test = train_test_split(X_discrete, y, test_size=0.2, random_state=42)\n",
        "train_data = X_train.copy()\n",
        "train_data[\"result\"] = y_train\n",
        "\n",
        "model = BayesianNetwork([(\"xGoals_rolling5\", \"result\"), (\"shots_rolling5\", \"result\"), (\"shotsOnTarget_rolling5\", \"result\"), (\"location\", \"result\")])\n",
        "model.fit(train_data, estimator=MaximumLikelihoodEstimator)\n",
        "\n",
        "inference = VariableElimination(model)\n",
        "\n",
        "def batch_predict(inference, X_test):\n",
        "    predictions = []\n",
        "    for _, row in X_test.iterrows():\n",
        "        evidence = {col: int(row[col]) for col in X_test.columns}\n",
        "        try:\n",
        "            result = inference.map_query(variables=[\"result\"], evidence=evidence)\n",
        "            predictions.append(result[\"result\"])\n",
        "        except:\n",
        "            predictions.append(0)\n",
        "    return predictions\n",
        "\n",
        "predictions = batch_predict(inference, X_test)\n",
        "\n",
        "print(\"\\nModel Performance:\")\n",
        "print(classification_report(y_test, predictions))\n",
        "print(\"Confusion Matrix:\\n\", confusion_matrix(y_test, predictions))\n",
        "print(\"Accuracy:\", accuracy_score(y_test, predictions))\n",
        "print(\"Model Evaluation Completed\")\n"
      ]
    }
  ]
}